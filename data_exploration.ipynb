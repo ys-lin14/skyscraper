{
 "cells": [
  {
   "cell_type": "code",
   "execution_count": 1,
   "metadata": {},
   "outputs": [],
   "source": [
    "import calendar\n",
    "import datetime\n",
    "import matplotlib.pyplot as plt\n",
    "import pandas as pd\n",
    "import seaborn as sns\n",
    "import sqlalchemy\n",
    "\n",
    "from database_credentials import get_database_url"
   ]
  },
  {
   "cell_type": "code",
   "execution_count": 2,
   "metadata": {},
   "outputs": [],
   "source": [
    "def get_mean_rating_for_month(data, month):\n",
    "    \"\"\"Get the mean rating for the given month\n",
    "    \n",
    "    Args:\n",
    "        data (dataframe): contains review data\n",
    "        \n",
    "    Returns:\n",
    "        mean_rating (float): mean rating for the month\n",
    "    \"\"\"\n",
    "    \n",
    "    mean_rating = data.loc[data['month'] == month, 'rating'].mean()\n",
    "    return mean_rating"
   ]
  },
  {
   "cell_type": "code",
   "execution_count": 3,
   "metadata": {},
   "outputs": [],
   "source": [
    "database_url = get_database_url()\n",
    "engine = sqlalchemy.create_engine(database_url)\n",
    "connection = engine.connect()"
   ]
  },
  {
   "cell_type": "code",
   "execution_count": 4,
   "metadata": {},
   "outputs": [],
   "source": [
    "review_query = '''\n",
    "    SELECT *\n",
    "    FROM reviews;\n",
    "'''\n",
    "\n",
    "review_data = pd.read_sql(review_query, connection)"
   ]
  },
  {
   "cell_type": "code",
   "execution_count": 5,
   "metadata": {
    "scrolled": false
   },
   "outputs": [
    {
     "data": {
      "text/html": [
       "<div>\n",
       "<style scoped>\n",
       "    .dataframe tbody tr th:only-of-type {\n",
       "        vertical-align: middle;\n",
       "    }\n",
       "\n",
       "    .dataframe tbody tr th {\n",
       "        vertical-align: top;\n",
       "    }\n",
       "\n",
       "    .dataframe thead th {\n",
       "        text-align: right;\n",
       "    }\n",
       "</style>\n",
       "<table border=\"1\" class=\"dataframe\">\n",
       "  <thead>\n",
       "    <tr style=\"text-align: right;\">\n",
       "      <th></th>\n",
       "      <th>user_id</th>\n",
       "      <th>review</th>\n",
       "      <th>rating</th>\n",
       "      <th>version</th>\n",
       "      <th>datetime_created</th>\n",
       "    </tr>\n",
       "  </thead>\n",
       "  <tbody>\n",
       "    <tr>\n",
       "      <th>0</th>\n",
       "      <td>Eleanor Abigail Darryko</td>\n",
       "      <td>This game is pretty great. The rest of the adv...</td>\n",
       "      <td>5</td>\n",
       "      <td>0.9.7 (150719)</td>\n",
       "      <td>2020-06-27 21:59:56</td>\n",
       "    </tr>\n",
       "    <tr>\n",
       "      <th>1</th>\n",
       "      <td>Noel Tulip</td>\n",
       "      <td>I love this game it's filled with adventure an...</td>\n",
       "      <td>5</td>\n",
       "      <td>0.9.5 (150178)</td>\n",
       "      <td>2020-06-27 21:54:23</td>\n",
       "    </tr>\n",
       "    <tr>\n",
       "      <th>2</th>\n",
       "      <td>ikan ayu</td>\n",
       "      <td>This game is beutiful</td>\n",
       "      <td>5</td>\n",
       "      <td>0.9.7 (150719)</td>\n",
       "      <td>2020-06-27 21:37:36</td>\n",
       "    </tr>\n",
       "  </tbody>\n",
       "</table>\n",
       "</div>"
      ],
      "text/plain": [
       "                   user_id                                             review  \\\n",
       "0  Eleanor Abigail Darryko  This game is pretty great. The rest of the adv...   \n",
       "1               Noel Tulip  I love this game it's filled with adventure an...   \n",
       "2                 ikan ayu                              This game is beutiful   \n",
       "\n",
       "   rating         version    datetime_created  \n",
       "0       5  0.9.7 (150719) 2020-06-27 21:59:56  \n",
       "1       5  0.9.5 (150178) 2020-06-27 21:54:23  \n",
       "2       5  0.9.7 (150719) 2020-06-27 21:37:36  "
      ]
     },
     "metadata": {},
     "output_type": "display_data"
    },
    {
     "name": "stdout",
     "output_type": "stream",
     "text": [
      "Shape: (20000, 5)\n",
      "\n",
      "Columns: ['user_id' 'review' 'rating' 'version' 'datetime_created']\n",
      "\n",
      "Column missing values:\n",
      "user_id             False\n",
      "review              False\n",
      "rating              False\n",
      "version              True\n",
      "datetime_created    False\n",
      "dtype: bool\n",
      "\n",
      "Descriptive Statistics for Rating:\n",
      "count    20000.000000\n",
      "mean         4.500800\n",
      "std          1.044775\n",
      "min          1.000000\n",
      "25%          5.000000\n",
      "50%          5.000000\n",
      "75%          5.000000\n",
      "max          5.000000\n",
      "Name: rating, dtype: float64\n",
      "\n",
      "Datetime Created: 2020-04-10 23:06:39 to 2020-06-27 21:59:56\n"
     ]
    }
   ],
   "source": [
    "display(review_data.head(3))\n",
    "\n",
    "print(\"Shape:\", review_data.shape)\n",
    "print(\"\\nColumns:\", review_data.columns.values)\n",
    "print(\"\\nColumn missing values:\\n\", review_data.isna().any(), sep='')\n",
    "\n",
    "ratings = review_data['rating']\n",
    "print(\"\\nDescriptive Statistics for Rating:\\n\", ratings.describe(), sep='')\n",
    "\n",
    "datetime_created = review_data['datetime_created']\n",
    "print(\"\\nDatetime Created: {} to {}\".format(datetime_created.min(), datetime_created.max()))"
   ]
  },
  {
   "cell_type": "markdown",
   "metadata": {},
   "source": [
    "Summary:\n",
    "- 20,000 rows with 5 columns \n",
    "- some reviews are not associated with any version of the game\n",
    "- mean rating of 4.5 out of 5 along with the percentiles indicate a large number of positive ratings\n",
    "- review data ranges from April to June\n",
    "\n",
    "It is important to note that there may be bias due to how reviews are only from the Google Play Store and were fetched based on Google's most relevant filter."
   ]
  },
  {
   "cell_type": "code",
   "execution_count": 6,
   "metadata": {
    "scrolled": false
   },
   "outputs": [
    {
     "data": {
      "image/png": "[encoded data removed]",
      "text/plain": [
       "<Figure size 432x288 with 1 Axes>"
      ]
     },
     "metadata": {
      "needs_background": "light"
     },
     "output_type": "display_data"
    },
    {
     "name": "stdout",
     "output_type": "stream",
     "text": [
      "Rating and Frequency:\n",
      "5    15059\n",
      "4     2330\n",
      "3     1119\n",
      "1      940\n",
      "2      552\n",
      "Name: rating, dtype: int64\n"
     ]
    }
   ],
   "source": [
    "rating_countplot = sns.countplot(x='rating', data=review_data)\n",
    "rating_countplot.set(\n",
    "    title='Rating vs Frequency',\n",
    "    xlabel='Rating',\n",
    "    ylabel='Frequency'\n",
    ")\n",
    "plt.show()\n",
    "\n",
    "print(\"Rating and Frequency:\\n\", review_data['rating'].value_counts(), sep='')"
   ]
  },
  {
   "cell_type": "code",
   "execution_count": 7,
   "metadata": {},
   "outputs": [
    {
     "data": {
      "image/png": "[encoded data removed]",
      "text/plain": [
       "<Figure size 432x288 with 1 Axes>"
      ]
     },
     "metadata": {
      "needs_background": "light"
     },
     "output_type": "display_data"
    },
    {
     "data": {
      "text/html": [
       "<div>\n",
       "<style scoped>\n",
       "    .dataframe tbody tr th:only-of-type {\n",
       "        vertical-align: middle;\n",
       "    }\n",
       "\n",
       "    .dataframe tbody tr th {\n",
       "        vertical-align: top;\n",
       "    }\n",
       "\n",
       "    .dataframe thead th {\n",
       "        text-align: right;\n",
       "    }\n",
       "</style>\n",
       "<table border=\"1\" class=\"dataframe\">\n",
       "  <thead>\n",
       "    <tr style=\"text-align: right;\">\n",
       "      <th></th>\n",
       "      <th>month</th>\n",
       "      <th>mean_rating</th>\n",
       "    </tr>\n",
       "  </thead>\n",
       "  <tbody>\n",
       "    <tr>\n",
       "      <th>0</th>\n",
       "      <td>April</td>\n",
       "      <td>4.508805</td>\n",
       "    </tr>\n",
       "    <tr>\n",
       "      <th>1</th>\n",
       "      <td>May</td>\n",
       "      <td>4.444655</td>\n",
       "    </tr>\n",
       "    <tr>\n",
       "      <th>2</th>\n",
       "      <td>June</td>\n",
       "      <td>4.561653</td>\n",
       "    </tr>\n",
       "  </tbody>\n",
       "</table>\n",
       "</div>"
      ],
      "text/plain": [
       "   month  mean_rating\n",
       "0  April     4.508805\n",
       "1    May     4.444655\n",
       "2   June     4.561653"
      ]
     },
     "execution_count": 7,
     "metadata": {},
     "output_type": "execute_result"
    }
   ],
   "source": [
    "# .dt.strftime('%B') returns month as a string but results in different order\n",
    "review_data['month'] = datetime_created.dt.month \n",
    "\n",
    "month_numbers = review_data['month'].sort_values().unique()\n",
    "mean_ratings = [\n",
    "    get_mean_rating_for_month(review_data, month_number) \n",
    "    for month_number in month_numbers\n",
    "]\n",
    "month_names = [\n",
    "    calendar.month_name[month_number] \n",
    "    for month_number in month_numbers\n",
    "]\n",
    "\n",
    "mean_monthly_rating_plot = sns.lineplot(\n",
    "    x=month_names, \n",
    "    y=mean_ratings, \n",
    "    sort=False\n",
    ")\n",
    "mean_monthly_rating_plot.set(\n",
    "    title='Month vs Average Rating',\n",
    "    xlabel='Month',\n",
    "    ylabel='Average Rating'\n",
    ")\n",
    "plt.ylim(1, 5) # misleading without limits\n",
    "plt.show()\n",
    "\n",
    "pd.DataFrame(\n",
    "    data=zip(month_names, mean_ratings), \n",
    "    columns=['month', 'mean_rating']\n",
    ")"
   ]
  },
  {
   "cell_type": "markdown",
   "metadata": {},
   "source": [
    "Plotting the mean monthly ratings show that they are relatively similar and below the true mean of 4.7 stars in the Google Play Store."
   ]
  },
  {
   "cell_type": "code",
   "execution_count": 8,
   "metadata": {},
   "outputs": [],
   "source": [
    "connection.close()\n",
    "engine.dispose()"
   ]
  }
 ],
 "metadata": {
  "kernelspec": {
   "display_name": "Python 3",
   "language": "python",
   "name": "python3"
  },
  "language_info": {
   "codemirror_mode": {
    "name": "ipython",
    "version": 3
   },
   "file_extension": ".py",
   "mimetype": "text/x-python",
   "name": "python",
   "nbconvert_exporter": "python",
   "pygments_lexer": "ipython3",
   "version": "3.6.6"
  }
 },
 "nbformat": 4,
 "nbformat_minor": 2
}
