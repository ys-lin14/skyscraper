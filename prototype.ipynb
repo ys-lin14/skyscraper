{
 "cells": [
  {
   "cell_type": "code",
   "execution_count": 17,
   "id": "sonic-romance",
   "metadata": {},
   "outputs": [],
   "source": [
    "import pandas as pd\n",
    "import time\n",
    "\n",
    "from datetime import datetime, timedelta\n",
    "from google_play_scraper import Sort, reviews"
   ]
  },
  {
   "cell_type": "code",
   "execution_count": null,
   "id": "egyptian-valuable",
   "metadata": {},
   "outputs": [],
   "source": [
    "# get all reviews ranging from today to first instance of day before yesterday\n",
    "# drop columns \n",
    "# rename columns\n",
    "# filter rows - remove reviews from today and reviews from day before yesterday\n",
    "\n",
    "# insert to database"
   ]
  },
  {
   "cell_type": "code",
   "execution_count": 21,
   "id": "continuous-procurement",
   "metadata": {},
   "outputs": [],
   "source": [
    "def get_extraction_is_complete(data):\n",
    "    today = datetime.today()\n",
    "    today = pd.Timestamp(today).floor('d')\n",
    "    yesterday = today - pd.Timedelta(days=1)\n",
    "    \n",
    "    extraction_is_complete = data['at'].apply(lambda ts: ts < yesterday).any()\n",
    "    return extraction_is_complete\n",
    "\n",
    "\n",
    "def get_continue_extracting_reviews(data):\n",
    "    continue_extracting_reviews = not(get_extraction_is_complete(data))\n",
    "    return continue_extracting_reviews\n",
    "\n",
    "\n",
    "def extract_next_batch(continuation_token):\n",
    "    results, continuation_token = reviews(\n",
    "        'com.tgc.sky.android',\n",
    "        continuation_token=continuation_token\n",
    "    )\n",
    "    \n",
    "    next_batch = pd.DataFrame(results)\n",
    "    return next_batch, continuation_token\n",
    "\n",
    "\n",
    "def extract_review_data():\n",
    "    results, continuation_token = reviews(\n",
    "        'com.tgc.sky.android',\n",
    "        sort=Sort.NEWEST,\n",
    "        count=200\n",
    "    ) \n",
    "    review_data = pd.DataFrame(results)\n",
    "    \n",
    "    continue_extracting_reviews = get_continue_extracting_reviews(review_data)\n",
    "    while(continue_extracting_reviews):\n",
    "        next_batch, continuation_token = extract_next_batch(continuation_token)\n",
    "        continue_extracting_reviews = get_continue_extracting_reviews(next_batch) \n",
    "        review_data = review_data.append(next_batch, ignore_index=True)\n",
    "        time.sleep(1)\n",
    "            \n",
    "    return review_data"
   ]
  },
  {
   "cell_type": "code",
   "execution_count": 22,
   "id": "vanilla-terrorism",
   "metadata": {},
   "outputs": [],
   "source": [
    "review_data = extract_review_data()"
   ]
  },
  {
   "cell_type": "code",
   "execution_count": null,
   "id": "afraid-focus",
   "metadata": {},
   "outputs": [],
   "source": [
    "review_data = pd.DataFrame(results)\n",
    "review_data\n",
    "\n",
    "filtered_review_data = review_data.drop(columns=['userImage', 'replyContent', 'repliedAt'])"
   ]
  },
  {
   "cell_type": "code",
   "execution_count": null,
   "id": "emotional-velvet",
   "metadata": {},
   "outputs": [],
   "source": []
  }
 ],
 "metadata": {
  "kernelspec": {
   "display_name": "Python 3",
   "language": "python",
   "name": "python3"
  },
  "language_info": {
   "codemirror_mode": {
    "name": "ipython",
    "version": 3
   },
   "file_extension": ".py",
   "mimetype": "text/x-python",
   "name": "python",
   "nbconvert_exporter": "python",
   "pygments_lexer": "ipython3",
   "version": "3.9.2"
  }
 },
 "nbformat": 4,
 "nbformat_minor": 5
}
